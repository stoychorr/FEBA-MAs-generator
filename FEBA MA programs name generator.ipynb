{
 "cells": [
  {
   "cell_type": "code",
   "id": "initial_id",
   "metadata": {
    "collapsed": true,
    "ExecuteTime": {
     "end_time": "2025-08-02T23:29:17.587018Z",
     "start_time": "2025-08-02T23:29:17.579882Z"
    }
   },
   "source": [
    "import random\n",
    "\n",
    "# Core buzzwords\n",
    "tech_buzzwords = [\n",
    "    \"AI\", \"Blockchain\", \"Digital\", \"Smart technologies\",\n",
    "    \"Green energy\", \"Cyber technologies\", \"Big Data\", \"Innovative\", \"FinTech\"\n",
    "]\n",
    "\n",
    "domain_buzzwords = [\n",
    "    \"Business\", \"Finance\", \"Economics\", \"Law\", \"Management\",\n",
    "    \"Governance\", \"Business Strategy\", \"Innovation\", \"Development\",\n",
    "    \"Public Policy\", \"Energy\", \"Entrepreneurship\"\n",
    "]\n",
    "\n",
    "modifiers = [\n",
    "    \"\", \"Strategic\", \"Sustainable\", \"International\", \"Advanced\"\n",
    "]\n",
    "\n",
    "def generate_feba_program():\n",
    "    tech = random.choice(tech_buzzwords)\n",
    "    domain = random.choice(domain_buzzwords)\n",
    "    modifier = random.choice(modifiers)\n",
    "\n",
    "    # Correct natural structure\n",
    "    if modifier:\n",
    "        return f\"{modifier} {tech} for {domain}\"\n",
    "    else:\n",
    "        return f\"{tech} for {domain}\"\n",
    "\n",
    "# Generate 20 sample programs\n",
    "for i in range(20):\n",
    "    print(f\"{i+1}. {generate_feba_program()}\")\n",
    "\n"
   ],
   "outputs": [
    {
     "name": "stdout",
     "output_type": "stream",
     "text": [
      "1. Strategic Cyber technologies for Finance\n",
      "2. Big Data for Business\n",
      "3. Strategic AI for Management\n",
      "4. International Smart technologies for Business\n",
      "5. Sustainable Green energy for Governance\n",
      "6. Strategic Cyber technologies for Business Strategy\n",
      "7. Advanced Smart technologies for Business Strategy\n",
      "8. Big Data for Business Strategy\n",
      "9. International AI for Entrepreneurship\n",
      "10. Advanced Big Data for Business Strategy\n",
      "11. International FinTech for Entrepreneurship\n",
      "12. Sustainable FinTech for Economics\n",
      "13. International Blockchain for Development\n",
      "14. FinTech for Energy\n",
      "15. AI for Entrepreneurship\n",
      "16. International Cyber technologies for Entrepreneurship\n",
      "17. Advanced Green energy for Public Policy\n",
      "18. Sustainable AI for Law\n",
      "19. Advanced AI for Economics\n",
      "20. Advanced Blockchain for Business\n"
     ]
    }
   ],
   "execution_count": 15
  },
  {
   "metadata": {},
   "cell_type": "code",
   "outputs": [],
   "execution_count": null,
   "source": "",
   "id": "623046555a8d6bc0"
  }
 ],
 "metadata": {
  "kernelspec": {
   "display_name": "Python 3",
   "language": "python",
   "name": "python3"
  },
  "language_info": {
   "codemirror_mode": {
    "name": "ipython",
    "version": 2
   },
   "file_extension": ".py",
   "mimetype": "text/x-python",
   "name": "python",
   "nbconvert_exporter": "python",
   "pygments_lexer": "ipython2",
   "version": "2.7.6"
  }
 },
 "nbformat": 4,
 "nbformat_minor": 5
}
